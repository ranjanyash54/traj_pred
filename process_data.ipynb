{
 "cells": [
  {
   "cell_type": "code",
   "execution_count": 4,
   "metadata": {},
   "outputs": [],
   "source": [
    "import pandas as pd\n",
    "import numpy as np\n",
    "import os\n",
    "from tqdm import tqdm"
   ]
  },
  {
   "cell_type": "code",
   "execution_count": 5,
   "metadata": {},
   "outputs": [],
   "source": [
    "def convert_to_batches(data, out_dir, cols):\n",
    "    train_fid_start = int(data.frame_id.min())\n",
    "    train_fid_total = int(data.frame_id.max() - train_fid_start + 1)\n",
    "    train_fid_end = int(train_fid_start + round((train_fid_total) * 0.8))\n",
    "\n",
    "    print(train_fid_start, train_fid_end, data.frame_id.max())\n",
    "\n",
    "    for start_fid in tqdm(range(train_fid_start, train_fid_end - 3000, 3000)):\n",
    "        fragment_df = data[(data.frame_id >= start_fid) & (data.frame_id < start_fid + 3000)].copy()\n",
    "        if fragment_df.frame_id.max() - fragment_df.frame_id.min() < 600: break\n",
    "        # process_ccs(fragment_df, centroid_dict)\n",
    "        np.savetxt(os.path.join(out_dir, 'prediction_train', f'{str(start_fid).zfill(6)}.txt'), fragment_df[cols].values, fmt='%f', delimiter=' ')\n",
    "    \n",
    "    \n",
    "    for start_fid in tqdm(range(train_fid_end, data.frame_id.max(), 3000)):\n",
    "        fragment_df = data[(data.frame_id >= start_fid) & (data.frame_id < start_fid + 3000)].copy()\n",
    "        if fragment_df.frame_id.max() - fragment_df.frame_id.min() < 600: break\n",
    "        # process_ccs(fragment_df, centroid_dict)\n",
    "        np.savetxt(os.path.join(out_dir, 'prediction_test', f'{str(start_fid).zfill(6)}.txt'), fragment_df[cols].values, fmt='%f', delimiter=' ')"
   ]
  },
  {
   "cell_type": "code",
   "execution_count": 6,
   "metadata": {},
   "outputs": [
    {
     "name": "stdout",
     "output_type": "stream",
     "text": [
      "At ./datasets/current/data_5hrs.txt\n"
     ]
    },
    {
     "name": "stderr",
     "output_type": "stream",
     "text": [
      " 14%|█████████████████████▎                                                                                                                               | 2/14 [00:00<00:00, 12.71it/s]"
     ]
    },
    {
     "name": "stdout",
     "output_type": "stream",
     "text": [
      "        frame_id  track_id      pos_x      pos_y      head  class  length  \\\n",
      "0              1         0 -28.678539  12.161493  2.645219    0.0     5.0   \n",
      "1              1         1 -13.576393 -27.818365 -1.926344    0.0     5.0   \n",
      "2              2         0 -27.785708  11.677933  2.645219    0.0     5.0   \n",
      "3              2         1 -13.117494 -26.582535 -1.926344    0.0     5.0   \n",
      "4              3         0 -26.750995  11.117529  2.645219    0.0     5.0   \n",
      "...          ...       ...        ...        ...       ...    ...     ...   \n",
      "414725     54543     36129  -5.138339  -5.577035 -1.939157    0.0     5.0   \n",
      "414726     54544     36127  -9.934749   7.041948 -0.989350    0.0     5.0   \n",
      "414727     54544     36128 -10.665608  -1.073429  1.597939    0.0     5.0   \n",
      "414728     54544     36129  -4.766486  -2.370986 -1.754775    0.0     5.0   \n",
      "414729     54544     36135 -28.678539  12.161493  2.645219    0.0     5.0   \n",
      "\n",
      "        width  \n",
      "0         1.8  \n",
      "1         1.8  \n",
      "2         1.8  \n",
      "3         1.8  \n",
      "4         1.8  \n",
      "...       ...  \n",
      "414725    1.8  \n",
      "414726    1.8  \n",
      "414727    1.8  \n",
      "414728    1.8  \n",
      "414729    1.8  \n",
      "\n",
      "[414730 rows x 8 columns]\n",
      "1 43636 54544\n"
     ]
    },
    {
     "name": "stderr",
     "output_type": "stream",
     "text": [
      "100%|████████████████████████████████████████████████████████████████████████████████████████████████████████████████████████████████████████████████████| 14/14 [00:01<00:00, 12.32it/s]\n",
      "100%|██████████████████████████████████████████████████████████████████████████████████████████████████████████████████████████████████████████████████████| 4/4 [00:00<00:00, 13.66it/s]\n"
     ]
    }
   ],
   "source": [
    "input_path = './datasets/current/'\n",
    "input_cols = ['frame_id', 'track_id', 'pos_x', 'pos_y', 'head', 'class', 'length', 'width']\n",
    "out_dir = './data/train_5/'\n",
    "out_cols = ['frame_id', 'track_id', 'pos_x', 'pos_y', 'head', 'class', 'length', 'width']\n",
    "\n",
    "for subdir, dirs, files in os.walk(input_path):\n",
    "    for file in files:\n",
    "        if file.endswith('.txt'):\n",
    "            full_data_path = os.path.join(subdir, file)\n",
    "            print('At', full_data_path)\n",
    "            data = pd.read_csv(full_data_path, sep=' ', index_col=False, header=None)\n",
    "            data.columns = input_cols\n",
    "            data['head'] = (data['head'] * np.pi / 180) - np.pi\n",
    "            print(data)\n",
    "            convert_to_batches(data, out_dir, out_cols)"
   ]
  },
  {
   "cell_type": "code",
   "execution_count": null,
   "metadata": {},
   "outputs": [],
   "source": []
  }
 ],
 "metadata": {
  "kernelspec": {
   "display_name": "py3.7",
   "language": "python",
   "name": "python3"
  },
  "language_info": {
   "codemirror_mode": {
    "name": "ipython",
    "version": 3
   },
   "file_extension": ".py",
   "mimetype": "text/x-python",
   "name": "python",
   "nbconvert_exporter": "python",
   "pygments_lexer": "ipython3",
   "version": "3.7.12"
  }
 },
 "nbformat": 4,
 "nbformat_minor": 2
}
